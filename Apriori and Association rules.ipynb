{
 "cells": [
  {
   "cell_type": "code",
   "execution_count": null,
   "id": "a3b0c525",
   "metadata": {
    "tags": []
   },
   "outputs": [],
   "source": [
    "from ggv.utils.context import create_default_context\n",
    "from ggv.utils.macros import google_sheet_to_bigquery\n",
    "import warnings\n",
    "import pandas as pd\n",
    "import numpy as np\n",
    "import plotly\n",
    "%matplotlib inline\n",
    "import matplotlib\n",
    "import matplotlib.pyplot as plt\n",
    "import plotly.graph_objects as go\n",
    "import plotly.express as px\n",
    "import plotly.io as pio\n",
    "import plotly\n",
    "import seaborn as sns\n",
    "from apyori import apriori\n",
    "from mlxtend.preprocessing import TransactionEncoder\n",
    "from mlxtend.frequent_patterns import apriori, association_rules\n",
    "from itertools import combinations\n",
    "from collections import Counter\n",
    "from sklearn.feature_extraction.text import CountVectorizer\n",
    "from sklearn.metrics.pairwise import cosine_similarity\n",
    "from sklearn.model_selection import train_test_split\n",
    "from surprise import SVD\n",
    "from surprise import Dataset\n",
    "from surprise import Reader\n",
    "from sklearn.decomposition import PCA"
   ]
  },
  {
   "cell_type": "code",
   "execution_count": null,
   "id": "3fe45515-5708-4f25-b5cd-c0d4f032387f",
   "metadata": {
    "tags": []
   },
   "outputs": [],
   "source": [
    "df = pd.read_csv('data_recommend.csv')"
   ]
  },
  {
   "cell_type": "code",
   "execution_count": null,
   "id": "65149076-f059-45ce-98b6-34f945aee57b",
   "metadata": {},
   "outputs": [],
   "source": [
    " def gcp_cust_profile()->str:\n",
    "     query=f\"\"\"\n",
    " WITH\n",
    "   delivery_detail AS (\n",
    "   SELECT\n",
    "     orders.system_order_request_id delivery_order_id,\n",
    "     orders.user_id delivery_user_id,\n",
    "     org.organization_name,\n",
    "     orders.status,\n",
    "     EXTRACT(DATE FROM orders.completed_at) order_completed_date,\n",
    "     STRUCT(orders.shipper_name as shipper_name,orders.shipper_phone as shipper_phone) shipper_detail,\n",
    "     STRUCT(orders.recipient_name as name,orders.recipient_phone as recipient_phone) recipient_detail,\n",
    "     delivery.courier_id,\n",
    "     delivery.organization_id,\n",
    "     LOWER(TRIM(REGEXP_REPLACE(delivery.info, '🚨|🔥', ''))) delivery_info,\n",
    "     delivery.remark delivery_remark\n",
    "   FROM\n",
    "     `TableName` orders\n",
    "   INNER JOIN\n",
    "     `TableName` delivery ON orders.system_order_request_id=delivery.id and orders.product_name='DELIVERY'\n",
    "   LEFT JOIN \n",
    "     `TableName` org ON delivery.organization_id=org.organization_id\n",
    "   WHERE\n",
    "     orders.status NOT IN (\"cancelled\",\n",
    "       \"failed\",\"pending\",\"returned\")),\n",
    " delivery_order_driver_type AS (\n",
    " SELECT\n",
    "   dd.*,\n",
    "   driver.full_name courier_name,\n",
    "   driver_type.vehicle courier_type\n",
    " FROM\n",
    "   delivery_detail dd\n",
    " LEFT JOIN\n",
    "   `TableName` driver\n",
    " ON\n",
    "   dd.courier_id=driver.driver_id\n",
    " LEFT JOIN\n",
    "   `TableName` driver_type\n",
    " ON\n",
    "   driver.vehicle_cd = driver_type.cd\n",
    " ),\n",
    " -- select * from driver_type order by order_completed_date\n",
    " categorised_delivery_item as\n",
    " (SELECT \n",
    "   delivery_order_driver_type.*,\n",
    "   COALESCE(item_lookup.keyword,'No keyword') keyword ,\n",
    "   COALESCE(item_lookup.category,'uncategorised') category,\n",
    "   ROW_NUMBER() OVER (PARTITION BY delivery_order_id ORDER BY LENGTH(item_lookup.keyword) DESC) length_order\n",
    " FROM\n",
    "   delivery_order_driver_type \n",
    " LEFT JOIN\n",
    "   `TableName` item_lookup\n",
    " ON delivery_order_driver_type.delivery_info LIKE CONCAT('%',item_lookup.keyword ,'%')\n",
    " ORDER BY\n",
    "   order_completed_date DESC)\n",
    " SELECT \n",
    "   delivery_user_id,\n",
    "   STRING_AGG(category, ',') AS categories\n",
    " FROM categorised_delivery_item \n",
    " WHERE length_order=1 AND category <> \"uncategorised\"\n",
    " GROUP BY delivery_user_id\n",
    " order by 1 desc\n",
    "     \"\"\"\n",
    "     return big_query_db.df_from_sql(query)"
   ]
  },
  {
   "cell_type": "code",
   "execution_count": null,
   "id": "7dc0a675-6423-44a8-a8fe-f9b9b9980b4b",
   "metadata": {
    "tags": []
   },
   "outputs": [],
   "source": [
    "chunk_size = 10000  \n",
    "df_chunks = pd.read_csv('data_recommend.csv', chunksize=chunk_size)  \n",
    "\n",
    "category_counts = {}\n",
    "\n",
    "for chunk in df_chunks:\n",
    "    chunk['categories'] = chunk['categories'].str.split(',')\n",
    "    for categories in chunk['categories']:\n",
    "        for category in categories:\n",
    "            if category in category_counts:\n",
    "                category_counts[category] += 1\n",
    "            else:\n",
    "                category_counts[category] = 1\n",
    "\n",
    "sorted_categories = sorted(category_counts.items(), key=lambda x: x[1], reverse=True)\n",
    "\n",
    "top_10_categories = [category for category, count in sorted_categories[:10]]\n",
    "\n",
    "print(sorted_categories)"
   ]
  },
  {
   "cell_type": "code",
   "execution_count": null,
   "id": "304a7960-1599-45eb-9450-c0130131c347",
   "metadata": {
    "tags": []
   },
   "outputs": [],
   "source": [
    "df = pd.concat([df, categories_split], axis=1)"
   ]
  },
  {
   "cell_type": "code",
   "execution_count": null,
   "id": "b17ef8d5-d5e8-441d-b682-592f339e9746",
   "metadata": {
    "tags": []
   },
   "outputs": [],
   "source": [
    "categories_df = df['categories'].str.get_dummies(',')\n",
    "\n",
    "df = pd.concat([df, categories_df], axis=1)\n",
    "\n",
    "df.drop('categories', axis=1, inplace=True)\n",
    "df.drop('delivery_user_id', axis=1, inplace=True)"
   ]
  },
  {
   "cell_type": "code",
   "execution_count": null,
   "id": "5fb20d2c-1b65-4e67-a144-0019d3ce59b8",
   "metadata": {
    "tags": []
   },
   "outputs": [],
   "source": [
    "transactions = df.values.tolist()\n",
    "\n",
    "te = TransactionEncoder()\n",
    "te_ary = te.fit(transactions).transform(transactions)\n",
    "df_encoded = pd.DataFrame(te_ary, columns=te.columns_)"
   ]
  },
  {
   "cell_type": "code",
   "execution_count": null,
   "id": "0528cb61-690e-4b13-a0f4-e2445013f625",
   "metadata": {
    "tags": []
   },
   "outputs": [],
   "source": [
    "frequent_itemsets = apriori(df_encoded, min_support=0.05, use_colnames=True)\n",
    "\n",
    "frequent_itemsets = frequent_itemsets.sort_values(by='support', ascending=False)\n",
    "\n",
    "print(frequent_itemsets)"
   ]
  },
  {
   "cell_type": "code",
   "execution_count": null,
   "id": "ee6d6da9-6792-4f84-b1f8-64809c965b85",
   "metadata": {
    "tags": []
   },
   "outputs": [],
   "source": [
    "df['categories_list'] = df['categories'].str.split(',')\n",
    "\n",
    "unique_categories = df.groupby('delivery_user_id')['categories_list'].apply(lambda x: len(set([category for categories in x for category in categories])))\n",
    "\n",
    "print(unique_categories)"
   ]
  },
  {
   "cell_type": "code",
   "execution_count": null,
   "id": "9e218f8e-8753-447b-8102-63220c23fcc8",
   "metadata": {
    "tags": []
   },
   "outputs": [],
   "source": [
    "data = list(df_2[\"categories\"].apply(lambda x:x.split(\",\") ))"
   ]
  },
  {
   "cell_type": "code",
   "execution_count": null,
   "id": "8ad7b0dc-b90e-478c-a99f-6f79cf9e7301",
   "metadata": {
    "tags": []
   },
   "outputs": [],
   "source": [
    "a = TransactionEncoder()\n",
    "a_data = a.fit(data).transform(data)\n",
    "a_data"
   ]
  },
  {
   "cell_type": "code",
   "execution_count": null,
   "id": "5fdf4243-b27a-423b-9881-699fb18aa7c4",
   "metadata": {
    "tags": []
   },
   "outputs": [],
   "source": [
    "df_3 = pd.DataFrame(a_data,columns=a.columns_)\n",
    "df_3 = df_3.replace(False,0)"
   ]
  },
  {
   "cell_type": "code",
   "execution_count": null,
   "id": "753568ac-9727-443e-a4cf-19a9ff34ff13",
   "metadata": {
    "tags": []
   },
   "outputs": [],
   "source": [
    "df_4 = apriori(df_3, min_support = 0.01, use_colnames = True, verbose = 1)"
   ]
  },
  {
   "cell_type": "code",
   "execution_count": null,
   "id": "41f63015-1150-4280-a3df-ee030e5c8a33",
   "metadata": {
    "tags": []
   },
   "outputs": [],
   "source": [
    "df_ar = association_rules(df_4, metric = \"confidence\", min_threshold = 0.1)"
   ]
  }
 ],
 "metadata": {
  "kernelspec": {
   "display_name": "Python 3 (ipykernel)",
   "language": "python",
   "name": "python3"
  },
  "language_info": {
   "codemirror_mode": {
    "name": "ipython",
    "version": 3
   },
   "file_extension": ".py",
   "mimetype": "text/x-python",
   "name": "python",
   "nbconvert_exporter": "python",
   "pygments_lexer": "ipython3",
   "version": "3.9.12"
  }
 },
 "nbformat": 4,
 "nbformat_minor": 5
}
